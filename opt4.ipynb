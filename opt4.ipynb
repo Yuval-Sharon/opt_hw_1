{
 "cells": [
  {
   "cell_type": "code",
   "execution_count": 1,
   "id": "7f9596ba-72f0-4048-913a-2f48db7d69ec",
   "metadata": {},
   "outputs": [],
   "source": [
    "import numpy as np\n",
    "import numpy.linalg as la\n",
    "import matplotlib.pyplot as plt"
   ]
  },
  {
   "cell_type": "code",
   "execution_count": 34,
   "id": "aad84044-9a3b-4d6c-89ee-a4a1afc4bf30",
   "metadata": {},
   "outputs": [],
   "source": [
    "def arg_min_xi(x, H, g, a, b, i):\n",
    "    G = 0\n",
    "    for j in range(len(x)):\n",
    "        G = 0 if(i == j) else G + H[i][j] * x[j]\n",
    "    G = g[i] - G\n",
    "    return  G / H[i][i]"
   ]
  },
  {
   "cell_type": "code",
   "execution_count": 47,
   "id": "c2257b39-5c81-4f0d-8f07-9f585078a33e",
   "metadata": {},
   "outputs": [],
   "source": [
    "def coordinate_descent(x, H, g, a, b):\n",
    "    for k in range(10):\n",
    "        x_prev = np.copy(x)\n",
    "        print(f'iter number: {k}') \n",
    "        for i in range(len(x)):\n",
    "            x[i] = arg_min_xi(x, H, g, a, b, i)\n",
    "            print(f'x{i} = {x[i]}')\n",
    "            if(x[i] > b[i]):\n",
    "                x[i] = b[i]\n",
    "            elif(x[i] < a[i]):\n",
    "                x[i] = a[i]\n",
    "        if(la.norm(x - x_prev) / la.norm(x) < 0.0001):\n",
    "            break\n",
    "    return x"
   ]
  },
  {
   "cell_type": "code",
   "execution_count": 48,
   "id": "19a603cf-9490-4a07-b5c7-795511000a5b",
   "metadata": {},
   "outputs": [],
   "source": [
    "H = np.array([[5,-1,-1,-1,-1],[-1,5,-1,-1,-1],[-1,-1,5,-1,-1],[-1,-1,-1,5,-1],[-1,-1,-1,-1,5]])\n",
    "g = np.array([18,6,-12,-6,18])\n",
    "a = np.array([0,0,0,0,0])\n",
    "b = np.array([5,5,5,5,5])\n",
    "x = np.array([0,0,0,0,0])"
   ]
  },
  {
   "cell_type": "code",
   "execution_count": 49,
   "id": "3d39d649-3975-4216-80fa-99dc9b52e975",
   "metadata": {},
   "outputs": [
    {
     "name": "stdout",
     "output_type": "stream",
     "text": [
      "iter number: 0\n",
      "x0 = 3\n",
      "x1 = 1\n",
      "x2 = -2\n",
      "x3 = -1\n",
      "x4 = 3\n",
      "iter number: 1\n",
      "x0 = 4\n",
      "x1 = 1\n",
      "x2 = -1\n",
      "x3 = 0\n",
      "x4 = 3\n",
      "iter number: 2\n",
      "x0 = 4\n",
      "x1 = 1\n",
      "x2 = -1\n",
      "x3 = 0\n",
      "x4 = 3\n"
     ]
    }
   ],
   "source": [
    "x = coordinate_descent(x, H, g, a, b)"
   ]
  },
  {
   "cell_type": "code",
   "execution_count": null,
   "id": "5f58a3de-96e3-433a-a04d-f43c8ccc54fc",
   "metadata": {},
   "outputs": [],
   "source": []
  }
 ],
 "metadata": {
  "kernelspec": {
   "display_name": "Python 3 (ipykernel)",
   "language": "python",
   "name": "python3"
  },
  "language_info": {
   "codemirror_mode": {
    "name": "ipython",
    "version": 3
   },
   "file_extension": ".py",
   "mimetype": "text/x-python",
   "name": "python",
   "nbconvert_exporter": "python",
   "pygments_lexer": "ipython3",
   "version": "3.9.12"
  }
 },
 "nbformat": 4,
 "nbformat_minor": 5
}
