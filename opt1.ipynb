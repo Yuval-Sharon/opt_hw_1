{
 "cells": [
  {
   "cell_type": "markdown",
   "source": [
    "Code for Question 1"
   ],
   "metadata": {
    "collapsed": false,
    "pycharm": {
     "name": "#%% md\n"
    }
   }
  },
  {
   "cell_type": "code",
   "execution_count": 1,
   "outputs": [
    {
     "name": "stdout",
     "output_type": "stream",
     "text": [
      "The vector that correspond with the biggest eigan value is \n",
      " x = [-0.29618621  0.35616716  0.06730298  0.88367923]\n"
     ]
    }
   ],
   "source": [
    "import numpy as np\n",
    "import numpy.linalg as la\n",
    "A = np.array([[1,2,3,4],[2,4,-4,8],[-5,4,1,5],[5,0,-3,-7.0]])\n",
    "ATA = A.transpose() @ A\n",
    "w, v = la.eig(ATA)\n",
    "print(f'The vector that correspond with the biggest eigan '\n",
    "      f'value is \\n x = {v.transpose()[0]}')"
   ],
   "metadata": {
    "collapsed": false,
    "pycharm": {
     "name": "#%%\n"
    }
   }
  },
  {
   "cell_type": "markdown",
   "source": [
    "Question 4 - least squares"
   ],
   "metadata": {
    "collapsed": false,
    "pycharm": {
     "name": "#%% md\n"
    }
   }
  },
  {
   "cell_type": "code",
   "source": [
    "b = np.array([6.0,1,5,2])\n",
    "A = np.array([[2.0,1,2],[1,-2,1],[1,2,3],[1,1,1]])\n",
    "ATA = A.transpose()@A"
   ],
   "metadata": {
    "collapsed": false,
    "pycharm": {
     "name": "#%%\n"
    }
   },
   "execution_count": 2,
   "outputs": []
  },
  {
   "cell_type": "code",
   "source": [
    "def forward_sub(L,b):\n",
    "    L = np.copy(L)\n",
    "    b = np.copy(b)\n",
    "    for i in range(len(L)):\n",
    "        b[i] = b[i] / L[i,i]\n",
    "        L[i][i] = 1\n",
    "        for j in range(i+1,len(L)):\n",
    "            b[j] = b[j] - b[i] * (L[j][i])\n",
    "            L[j] = L[j] - L[i] * (L[j][i])\n",
    "    return b\n"
   ],
   "metadata": {
    "collapsed": false,
    "pycharm": {
     "name": "#%%\n"
    }
   },
   "execution_count": 3,
   "outputs": []
  },
  {
   "cell_type": "code",
   "execution_count": 4,
   "outputs": [],
   "source": [
    "def backward_sub(LT,y):\n",
    "    LT = np.copy(LT)\n",
    "    y = np.copy(y)\n",
    "    for i in reversed(range(len(LT))):\n",
    "        y[i] = y[i] / LT[i,i]\n",
    "        LT[i][i] = 1\n",
    "        for j in range(0,i):\n",
    "            y[j] = y[j] - y[i] * (LT[j][i])\n",
    "            LT[j] = LT[j] - LT[i] * (LT[j][i])\n",
    "    return y"
   ],
   "metadata": {
    "collapsed": false,
    "pycharm": {
     "name": "#%%\n"
    }
   }
  },
  {
   "cell_type": "markdown",
   "source": [
    "Section (a) - using Cholesky Factorization"
   ],
   "metadata": {
    "collapsed": false,
    "pycharm": {
     "name": "#%% md\n"
    }
   }
  },
  {
   "cell_type": "code",
   "source": [
    "ATB = A.transpose() @ b\n",
    "L = np.linalg.cholesky(ATA)\n",
    "y = forward_sub(L,ATB)\n",
    "x = backward_sub(L.transpose(),y)\n",
    "print(f'the vector that we found is x={x}')\n",
    "\n",
    "\n"
   ],
   "metadata": {
    "collapsed": false,
    "pycharm": {
     "name": "#%%\n"
    }
   },
   "execution_count": 5,
   "outputs": [
    {
     "name": "stdout",
     "output_type": "stream",
     "text": [
      "the vector that we found is x=[1.7 0.6 0.7]\n"
     ]
    }
   ]
  },
  {
   "cell_type": "markdown",
   "source": [
    "Section (b) using QR , SVD"
   ],
   "metadata": {
    "collapsed": false,
    "pycharm": {
     "name": "#%% md\n"
    }
   }
  },
  {
   "cell_type": "code",
   "execution_count": 6,
   "outputs": [
    {
     "name": "stdout",
     "output_type": "stream",
     "text": [
      "The vector that we found using qr factorization is x=[1.7 0.6 0.7]\n"
     ]
    }
   ],
   "source": [
    "Q,R = np.linalg.qr(A)\n",
    "y = forward_sub(R.transpose(),ATB)\n",
    "x_qr = backward_sub(R,y)\n",
    "print(f'The vector that we found using qr factorization is x={x_qr}')\n",
    "\n",
    "\n",
    "\n",
    "\n"
   ],
   "metadata": {
    "collapsed": false,
    "pycharm": {
     "name": "#%%\n"
    }
   }
  },
  {
   "cell_type": "markdown",
   "source": [
    "now we will solve the problem using SVD"
   ],
   "metadata": {
    "collapsed": false,
    "pycharm": {
     "name": "#%% md\n"
    }
   }
  },
  {
   "cell_type": "code",
   "source": [
    "def sigma_solver(s,UTb):\n",
    "    s = np.copy(s)\n",
    "    UTb = np.copy(UTb)\n",
    "    y = np.array([UTb[i]/s[i][i] for i in range(len(UTb)-1)])\n",
    "    return y"
   ],
   "metadata": {
    "collapsed": false,
    "pycharm": {
     "name": "#%%\n"
    }
   },
   "execution_count": 7,
   "outputs": []
  },
  {
   "cell_type": "code",
   "source": [
    "u, s, vt = np.linalg.svd(A, full_matrices=True)\n",
    "# follow the equation : s@vt@x = u^t @ b\n",
    "s = np.diag(s)\n",
    "st = np.vstack((s, [0, 0, 0]))\n",
    "y = sigma_solver(s,u.transpose() @ b)\n",
    "x_svd = vt.transpose() @ y\n",
    "print(f'The vector that we found using svd decomposition??? is x={x_svd}')\n"
   ],
   "metadata": {
    "collapsed": false,
    "pycharm": {
     "name": "#%%\n"
    }
   },
   "execution_count": 8,
   "outputs": [
    {
     "name": "stdout",
     "output_type": "stream",
     "text": [
      "The vector that we found using svd decomposition??? is x=[1.7 0.6 0.7]\n"
     ]
    }
   ]
  },
  {
   "cell_type": "markdown",
   "source": [
    "Section (c):"
   ],
   "metadata": {
    "collapsed": false
   }
  },
  {
   "cell_type": "code",
   "execution_count": 9,
   "outputs": [
    {
     "name": "stdout",
     "output_type": "stream",
     "text": [
      "The residual of the least squares system is: [-6.00000000e-01  2.00000000e-01  1.77635684e-15  1.00000000e+00]\n",
      "A.transpose() @ r = [3.55271368e-15 1.77635684e-15 7.10542736e-15]\n"
     ]
    }
   ],
   "source": [
    "print(f'The residual of the least squares system is: {A@x_svd - b}')\n",
    "print(f'A.transpose() @ r = {A.transpose()@(A@x_svd - b)}')"
   ],
   "metadata": {
    "collapsed": false,
    "pycharm": {
     "name": "#%%\n"
    }
   }
  },
  {
   "cell_type": "markdown",
   "source": [
    "it is not suprising because we know the noraml equation : A.transpose()*A*x =A.transpose()*b\n",
    "so A.transpose() @ (A @ x - b)  = 0 and (A @ x - b) =r\n",
    "\n",
    "\n",
    "Section (d):"
   ],
   "metadata": {
    "collapsed": false
   }
  },
  {
   "cell_type": "code",
   "execution_count": 10,
   "outputs": [
    {
     "name": "stdout",
     "output_type": "stream",
     "text": [
      "r1 = -0.0008074128194239805\n",
      "True\n"
     ]
    }
   ],
   "source": [
    "W = np.diag([1000, 1, 1, 1])\n",
    "ATWA = A.transpose() @ W @ A\n",
    "x_wighted = np.linalg.inv(ATWA) @ A.transpose() @ W @ b\n",
    "r_new = A @ x_wighted - b\n",
    "print(f'r1 = {r_new[0]}')\n",
    "print(np.abs(r_new[0]) < 10 ** -3)\n"
   ],
   "metadata": {
    "collapsed": false,
    "pycharm": {
     "name": "#%%\n"
    }
   }
  },
  {
   "cell_type": "markdown",
   "source": [
    "Question 5"
   ],
   "metadata": {
    "collapsed": false,
    "pycharm": {
     "name": "#%% md\n"
    }
   }
  },
  {
   "cell_type": "code",
   "source": [
    "def gram_schmidt_qr(A):\n",
    "    AT = A.transpose()\n",
    "    R = np.zeros((len(A[0]),len(A[0])))\n",
    "    Q = np.zeros((len(AT),len(AT[0])))\n",
    "    #init\n",
    "    R[0][0] = la.norm(AT[0])\n",
    "    Q[0] = AT[0] / R[0][0]\n",
    "    for i in range(1,len(AT)):\n",
    "        Q[i] = AT[i]\n",
    "        for j in range(0,i):\n",
    "            R[j][i] = Q[j].transpose() @ AT[i] #verify that is float not vector\n",
    "            Q[i] -= R[j][i] * Q[j]\n",
    "        R[i][i] = la.norm(Q[i])\n",
    "        Q[i] = Q[i] / R[i][i]\n",
    "    return Q.transpose(), R\n",
    "\n",
    "def gram_schmidt_qr_modified(A):\n",
    "    AT = A.transpose()\n",
    "    R = np.zeros((len(A[0]),len(A[0])))\n",
    "    Q = np.zeros((len(AT),len(AT[0])))\n",
    "    #init\n",
    "    R[0][0] = la.norm(AT[0])\n",
    "    Q[0] = AT[0] / R[0][0]\n",
    "    for i in range(1,len(AT)):\n",
    "        Q[i] = AT[i]\n",
    "        for j in range(0,i):\n",
    "            R[j][i] = Q[j].transpose() @ Q[i] #verify that is float not vector\n",
    "            Q[i] -= R[j][i] * Q[j]\n",
    "        R[i][i] = la.norm(Q[i])\n",
    "        Q[i] = Q[i] / R[i][i]\n",
    "    return Q.transpose(), R"
   ],
   "metadata": {
    "collapsed": false,
    "pycharm": {
     "name": "#%%\n"
    }
   },
   "execution_count": 11,
   "outputs": []
  },
  {
   "cell_type": "code",
   "execution_count": 12,
   "outputs": [
    {
     "name": "stdout",
     "output_type": "stream",
     "text": [
      "The QR factorization of the with epslion = 1\n",
      "regular: \n",
      " Q= \n",
      "  [[ 0.70710678  0.40824829  0.28867513]\n",
      " [ 0.70710678 -0.40824829 -0.28867513]\n",
      " [ 0.          0.81649658 -0.28867513]\n",
      " [ 0.          0.          0.8660254 ]] \n",
      "\n",
      " R=  \n",
      " [[1.41421356 0.70710678 0.70710678]\n",
      " [0.         1.22474487 0.40824829]\n",
      " [0.         0.         1.15470054]] \n",
      "\n",
      "modified:\n",
      "  Q= \n",
      "  [[ 0.70710678  0.40824829  0.28867513]\n",
      " [ 0.70710678 -0.40824829 -0.28867513]\n",
      " [ 0.          0.81649658 -0.28867513]\n",
      " [ 0.          0.          0.8660254 ]] \n",
      " R=  \n",
      " [[1.41421356 0.70710678 0.70710678]\n",
      " [0.         1.22474487 0.40824829]\n",
      " [0.         0.         1.15470054]] \n",
      "\n",
      "\n",
      "The QR factorization of the with epslion = 1e-10\n",
      "regular: \n",
      " Q= \n",
      "  [[ 1.00000000e+00  0.00000000e+00  0.00000000e+00]\n",
      " [ 1.00000000e-10 -7.07106781e-01 -7.07106781e-01]\n",
      " [ 0.00000000e+00  7.07106781e-01  0.00000000e+00]\n",
      " [ 0.00000000e+00  0.00000000e+00  7.07106781e-01]] \n",
      "\n",
      " R=  \n",
      " [[1.00000000e+00 1.00000000e+00 1.00000000e+00]\n",
      " [0.00000000e+00 1.41421356e-10 0.00000000e+00]\n",
      " [0.00000000e+00 0.00000000e+00 1.41421356e-10]] \n",
      "\n",
      "modified: \n",
      " Q= \n",
      "  [[ 1.00000000e+00  0.00000000e+00  0.00000000e+00]\n",
      " [ 1.00000000e-10 -7.07106781e-01 -4.08248290e-01]\n",
      " [ 0.00000000e+00  7.07106781e-01 -4.08248290e-01]\n",
      " [ 0.00000000e+00  0.00000000e+00  8.16496581e-01]] \n",
      " R=  \n",
      " [[1.00000000e+00 1.00000000e+00 1.00000000e+00]\n",
      " [0.00000000e+00 1.41421356e-10 7.07106781e-11]\n",
      " [0.00000000e+00 0.00000000e+00 1.22474487e-10]] \n"
     ]
    }
   ],
   "source": [
    "A1 = np.array([[1,1,1],[1,0,0],[0,1,0],[0,0,1]])\n",
    "A2 = np.array([[1,1,1],[1e-10,0,0],[0,1e-10,0],[0,0,1e-10]])\n",
    "print(f'The QR factorization of the with epslion = 1')\n",
    "Q11,R11 = gram_schmidt_qr(A1)\n",
    "print(f'regular: \\n Q= \\n  {Q11} \\n\\n R=  \\n {R11} \\n')\n",
    "Q12,R12 = gram_schmidt_qr_modified(A1)\n",
    "print(f'modified:\\n  Q= \\n  {Q12} \\n R=  \\n {R12} \\n\\n')\n",
    "print(f'The QR factorization of the with epslion = 1e-10')\n",
    "Q21,R21 = gram_schmidt_qr(A2)\n",
    "print(f'regular: \\n Q= \\n  {Q21} \\n\\n R=  \\n {R21} \\n')\n",
    "Q22,R22 = gram_schmidt_qr_modified(A2)\n",
    "print(f'modified: \\n Q= \\n  {Q22} \\n R=  \\n {R22} ')\n",
    "I = np.diag([1,1,1])"
   ],
   "metadata": {
    "collapsed": false,
    "pycharm": {
     "name": "#%%\n"
    }
   }
  },
  {
   "cell_type": "raw",
   "source": [
    "Section (c)"
   ],
   "metadata": {
    "collapsed": false,
    "pycharm": {
     "name": "#%% raw\n"
    }
   }
  },
  {
   "cell_type": "code",
   "execution_count": 13,
   "outputs": [
    {
     "name": "stdout",
     "output_type": "stream",
     "text": [
      "\n",
      " for epslion = 1, forbinus norm for Q.transpose()@Q - I\n",
      "regular : 5.319287782567757e-16\n",
      "modified : 4.987305196443834e-16\n",
      "\n",
      " for epslion = 1e-10, forbinus norm for Q.transpose()@Q - I\n",
      "regular : 0.7071067811865477\n",
      "modified : 1.1547005383855976e-10\n"
     ]
    }
   ],
   "source": [
    "print('\\n for epslion = 1, forbinus norm for Q.transpose()@Q - I')\n",
    "print(f'regular : {la.norm(Q11.transpose()@Q11 - I)}')\n",
    "print(f'modified : {la.norm(Q12.transpose()@Q12 - I)}')\n",
    "print('\\n for epslion = 1e-10, forbinus norm for Q.transpose()@Q - I')\n",
    "print(f'regular : {la.norm(Q21.transpose()@Q21 - I)}')\n",
    "print(f'modified : {la.norm(Q22.transpose()@Q22 - I)}')"
   ],
   "metadata": {
    "collapsed": false,
    "pycharm": {
     "name": "#%%\n"
    }
   }
  },
  {
   "cell_type": "markdown",
   "source": [
    "\n",
    "We can see that modified algorithm produces a better QR factorization\n",
    "becuase with epsilon = 1e-10 we got forbinus norm which was closer to 0, then\n",
    "the one we got using the regular algorithm."
   ],
   "metadata": {
    "collapsed": false,
    "pycharm": {
     "name": "#%% md\n"
    }
   }
  },
  {
   "cell_type": "code",
   "execution_count": null,
   "outputs": [],
   "source": [],
   "metadata": {
    "collapsed": false,
    "pycharm": {
     "name": "#%%\n"
    }
   }
  }
 ],
 "metadata": {
  "kernelspec": {
   "display_name": "Python 3",
   "language": "python",
   "name": "python3"
  },
  "language_info": {
   "codemirror_mode": {
    "name": "ipython",
    "version": 2
   },
   "file_extension": ".py",
   "mimetype": "text/x-python",
   "name": "python",
   "nbconvert_exporter": "python",
   "pygments_lexer": "ipython2",
   "version": "2.7.6"
  }
 },
 "nbformat": 4,
 "nbformat_minor": 0
}