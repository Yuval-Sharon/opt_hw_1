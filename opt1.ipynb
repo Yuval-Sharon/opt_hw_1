{
 "cells": [
  {
   "cell_type": "markdown",
   "source": [
    "question 4 - least squares"
   ],
   "metadata": {
    "collapsed": false,
    "pycharm": {
     "name": "#%% md\n"
    }
   }
  },
  {
   "cell_type": "code",
   "source": [
    "import numpy as np\n",
    "b = np.array([6.0,1,5,2])\n",
    "A = np.array([[2.0,1,2],[1,-2,1],[1,2,3],[1,1,1]])\n",
    "ATA = A.transpose()@A"
   ],
   "metadata": {
    "collapsed": false,
    "pycharm": {
     "name": "#%%\n"
    }
   },
   "execution_count": 362,
   "outputs": []
  },
  {
   "cell_type": "code",
   "source": [
    "def forward_sub(L,b):\n",
    "    L = np.copy(L)\n",
    "    b = np.copy(b)\n",
    "    for i in range(len(L)):\n",
    "        b[i] = b[i] / L[i,i]\n",
    "        L[i][i] = 1\n",
    "        for j in range(i+1,len(L)):\n",
    "            b[j] = b[j] - b[i] * (L[j][i])\n",
    "            L[j] = L[j] - L[i] * (L[j][i])\n",
    "    return b\n"
   ],
   "metadata": {
    "collapsed": false,
    "pycharm": {
     "name": "#%%\n"
    }
   },
   "execution_count": 363,
   "outputs": []
  },
  {
   "cell_type": "code",
   "execution_count": 364,
   "outputs": [],
   "source": [
    "def backward_sub(LT,y):\n",
    "    LT = np.copy(LT)\n",
    "    y = np.copy(y)\n",
    "    for i in reversed(range(len(LT))):\n",
    "        y[i] = y[i] / LT[i,i]\n",
    "        LT[i][i] = 1\n",
    "        for j in range(0,i):\n",
    "            y[j] = y[j] - y[i] * (LT[j][i])\n",
    "            LT[j] = LT[j] - LT[i] * (LT[j][i])\n",
    "    return y"
   ],
   "metadata": {
    "collapsed": false,
    "pycharm": {
     "name": "#%%\n"
    }
   }
  },
  {
   "cell_type": "markdown",
   "source": [
    "Section (a) - using Cholesky Factorization"
   ],
   "metadata": {
    "collapsed": false,
    "pycharm": {
     "name": "#%% md\n"
    }
   }
  },
  {
   "cell_type": "code",
   "source": [
    "ATB = A.transpose() @ b\n",
    "L = np.linalg.cholesky(ATA)\n",
    "y = forward_sub(L,ATB)\n",
    "x = backward_sub(L.transpose(),y)\n",
    "print(f'the vector that we found is x={x}')\n",
    "\n",
    "\n"
   ],
   "metadata": {
    "collapsed": false,
    "pycharm": {
     "name": "#%%\n"
    }
   },
   "execution_count": 365,
   "outputs": [
    {
     "name": "stdout",
     "output_type": "stream",
     "text": [
      "the vector that we found is x=[1.7 0.6 0.7]\n"
     ]
    }
   ]
  },
  {
   "cell_type": "markdown",
   "source": [
    "Section (b) using QR , SVD"
   ],
   "metadata": {
    "collapsed": false,
    "pycharm": {
     "name": "#%% md\n"
    }
   }
  },
  {
   "cell_type": "code",
   "execution_count": 366,
   "outputs": [
    {
     "name": "stdout",
     "output_type": "stream",
     "text": [
      "The vector that we found using qr factorization is x=[1.7 0.6 0.7]\n"
     ]
    }
   ],
   "source": [
    "Q,R = np.linalg.qr(A)\n",
    "y = forward_sub(R.transpose(),ATB)\n",
    "x_qr = backward_sub(R,y)\n",
    "print(f'The vector that we found using qr factorization is x={x_qr}')\n",
    "\n",
    "\n",
    "\n",
    "\n"
   ],
   "metadata": {
    "collapsed": false,
    "pycharm": {
     "name": "#%%\n"
    }
   }
  },
  {
   "cell_type": "markdown",
   "source": [
    "now we will solve the problem using SVD"
   ],
   "metadata": {
    "collapsed": false,
    "pycharm": {
     "name": "#%% md\n"
    }
   }
  },
  {
   "cell_type": "code",
   "source": [
    "def sigma_solver(s,UTb):\n",
    "    s = np.copy(s)\n",
    "    UTb = np.copy(UTb)\n",
    "    y = np.array([UTb[i]/s[i][i] for i in range(len(UTb)-1)])\n",
    "    return y"
   ],
   "metadata": {
    "collapsed": false,
    "pycharm": {
     "name": "#%%\n"
    }
   },
   "execution_count": 367,
   "outputs": []
  },
  {
   "cell_type": "code",
   "source": [
    "u, s, vt = np.linalg.svd(A, full_matrices=True)\n",
    "# follow the equation : s@vt@x = u^t @ b\n",
    "s = np.diag(s)\n",
    "st = np.vstack((s, [0, 0, 0]))\n",
    "y = sigma_solver(s,u.transpose() @ b)\n",
    "x_svd = vt.transpose() @ y\n",
    "print(f'The vector that we found using svd decomposition??? is x={x_svd}')\n"
   ],
   "metadata": {
    "collapsed": false,
    "pycharm": {
     "name": "#%%\n"
    }
   },
   "execution_count": 368,
   "outputs": [
    {
     "name": "stdout",
     "output_type": "stream",
     "text": [
      "The vector that we found using svd decomposition??? is x=[1.7 0.6 0.7]\n"
     ]
    }
   ]
  },
  {
   "cell_type": "markdown",
   "source": [
    "Section (c):"
   ],
   "metadata": {
    "collapsed": false
   }
  },
  {
   "cell_type": "code",
   "execution_count": 369,
   "outputs": [
    {
     "name": "stdout",
     "output_type": "stream",
     "text": [
      "The residual of the least squares system is: [-6.00000000e-01  2.00000000e-01  1.77635684e-15  1.00000000e+00]\n",
      "A.transpose() @ r = [3.55271368e-15 1.77635684e-15 7.10542736e-15]\n"
     ]
    }
   ],
   "source": [
    "print(f'The residual of the least squares system is: {A@x_svd - b}')\n",
    "print(f'A.transpose() @ r = {A.transpose()@(A@x_svd - b)}')"
   ],
   "metadata": {
    "collapsed": false,
    "pycharm": {
     "name": "#%%\n"
    }
   }
  },
  {
   "cell_type": "markdown",
   "source": [
    "it is not suprising because we know the noraml equation : A.transpose()*A*x =A.transpose()*b\n",
    "so A.transpose() @ (A @ x - b)  = 0 and (A @ x - b) =r\n",
    "\n",
    "\n",
    "Section (d):"
   ],
   "metadata": {
    "collapsed": false
   }
  },
  {
   "cell_type": "code",
   "execution_count": 370,
   "outputs": [
    {
     "name": "stdout",
     "output_type": "stream",
     "text": [
      "r1 = -0.0008074128194239805\n",
      "True\n"
     ]
    }
   ],
   "source": [
    "W = np.diag([1000, 1, 1, 1])\n",
    "ATWA = A.transpose() @ W @ A\n",
    "x_wighted = np.linalg.inv(ATWA) @ A.transpose() @ W @ b\n",
    "r_new = A @ x_wighted - b\n",
    "print(f'r1 = {r_new[0]}')\n",
    "print(np.abs(r_new[0]) < 10 ** -3)\n",
    "\n"
   ],
   "metadata": {
    "collapsed": false,
    "pycharm": {
     "name": "#%%\n"
    }
   }
  }
 ],
 "metadata": {
  "kernelspec": {
   "display_name": "Python 3",
   "language": "python",
   "name": "python3"
  },
  "language_info": {
   "codemirror_mode": {
    "name": "ipython",
    "version": 2
   },
   "file_extension": ".py",
   "mimetype": "text/x-python",
   "name": "python",
   "nbconvert_exporter": "python",
   "pygments_lexer": "ipython2",
   "version": "2.7.6"
  }
 },
 "nbformat": 4,
 "nbformat_minor": 0
}