{
 "cells": [
  {
   "cell_type": "markdown",
   "source": [
    "question 4 - least squares"
   ],
   "metadata": {
    "collapsed": false,
    "pycharm": {
     "name": "#%% md\n"
    }
   }
  },
  {
   "cell_type": "code",
   "source": [
    "import numpy as np\n",
    "b = np.array([6,1,5,2])\n",
    "A = np.array([[2,1,2],[1,-2,1],[1,2,3],[1,1,1]])\n",
    "ATA = A.transpose()@A\n",
    "L = np.linalg.cholesky(ATA)\n",
    "L\n"
   ],
   "metadata": {
    "collapsed": false,
    "pycharm": {
     "name": "#%%\n"
    }
   },
   "execution_count": 94,
   "outputs": [
    {
     "data": {
      "text/plain": "array([[2.64575131, 0.        , 0.        ],\n       [1.13389342, 2.9519969 , 0.        ],\n       [3.40168026, 1.06465462, 1.51495279]])"
     },
     "execution_count": 94,
     "metadata": {},
     "output_type": "execute_result"
    }
   ]
  },
  {
   "cell_type": "code",
   "source": [
    "def forward_sub(L,b):\n",
    "    L = np.copy(L)\n",
    "    b = np.copy(b)\n",
    "    for i in range(len(L)):\n",
    "        b[i] = b[i] / L[i,i]\n",
    "        L[i][i] = 1\n",
    "        for j in range(i+1,len(L)):\n",
    "            b[j] = b[j] - b[i] * (L[j][i])\n",
    "            L[j] = L[j] - L[i] * (L[j][i])\n",
    "    return b\n"
   ],
   "metadata": {
    "collapsed": false,
    "pycharm": {
     "name": "#%%\n"
    }
   },
   "execution_count": 95,
   "outputs": []
  },
  {
   "cell_type": "code",
   "execution_count": 96,
   "outputs": [],
   "source": [
    "def backward_sub(LT,y):\n",
    "    LT = np.copy(LT)\n",
    "    y = np.copy(y)\n",
    "    for i in reversed(range(len(L))):\n",
    "        y[i] = y[i] / LT[i,i]\n",
    "        LT[i][i] = 1\n",
    "        for j in range(0,i):\n",
    "            y[j] = y[j] - y[i] * (LT[j][i])\n",
    "            LT[j] = LT[j] - LT[i] * (LT[j][i])\n",
    "    return y"
   ],
   "metadata": {
    "collapsed": false,
    "pycharm": {
     "name": "#%%\n"
    }
   }
  },
  {
   "cell_type": "code",
   "execution_count": 97,
   "outputs": [
    {
     "name": "stdout",
     "output_type": "stream",
     "text": [
      "[ -6 -10 -12]\n",
      "[-2  1 -3  0]\n",
      "[1 2 4]\n"
     ]
    }
   ],
   "source": [
    "ATB = A.transpose() @ b\n",
    "y = forward_sub(L,ATB)\n",
    "x = backward_sub(L.transpose(),y)\n",
    "print(ATA @ x - ATB)\n",
    "print(A@x -b)\n",
    "\n",
    "#just an example\n",
    "C = np.array([[2,1,1],[0,2,1],[0,0,2]])\n",
    "d = np.array([8,8,8])\n",
    "print(backward_sub(C,d))\n",
    "\n",
    "\n",
    "\n"
   ],
   "metadata": {
    "collapsed": false,
    "pycharm": {
     "name": "#%%\n"
    }
   }
  }
 ],
 "metadata": {
  "kernelspec": {
   "display_name": "Python 3",
   "language": "python",
   "name": "python3"
  },
  "language_info": {
   "codemirror_mode": {
    "name": "ipython",
    "version": 2
   },
   "file_extension": ".py",
   "mimetype": "text/x-python",
   "name": "python",
   "nbconvert_exporter": "python",
   "pygments_lexer": "ipython2",
   "version": "2.7.6"
  }
 },
 "nbformat": 4,
 "nbformat_minor": 0
}