{
 "cells": [
  {
   "cell_type": "markdown",
   "source": [
    "question 4 - least squares"
   ],
   "metadata": {
    "collapsed": false,
    "pycharm": {
     "name": "#%% md\n"
    }
   }
  },
  {
   "cell_type": "code",
   "source": [
    "import numpy as np\n",
    "b = np.array([6.0,1,5,2])\n",
    "A = np.array([[2.0,1,2],[1,-2,1],[1,2,3],[1,1,1]])\n",
    "ATA = A.transpose()@A"
   ],
   "metadata": {
    "collapsed": false,
    "pycharm": {
     "name": "#%%\n"
    }
   },
   "execution_count": 23,
   "outputs": []
  },
  {
   "cell_type": "code",
   "source": [
    "def forward_sub(L,b):\n",
    "    L = np.copy(L)\n",
    "    b = np.copy(b)\n",
    "    for i in range(len(L)):\n",
    "        b[i] = b[i] / L[i,i]\n",
    "        L[i][i] = 1\n",
    "        for j in range(i+1,len(L)):\n",
    "            b[j] = b[j] - b[i] * (L[j][i])\n",
    "            L[j] = L[j] - L[i] * (L[j][i])\n",
    "    return b\n"
   ],
   "metadata": {
    "collapsed": false,
    "pycharm": {
     "name": "#%%\n"
    }
   },
   "execution_count": 24,
   "outputs": []
  },
  {
   "cell_type": "code",
   "execution_count": 25,
   "outputs": [],
   "source": [
    "def backward_sub(LT,y):\n",
    "    LT = np.copy(LT)\n",
    "    y = np.copy(y)\n",
    "    for i in reversed(range(len(LT))):\n",
    "        y[i] = y[i] / LT[i,i]\n",
    "        LT[i][i] = 1\n",
    "        for j in range(0,i):\n",
    "            y[j] = y[j] - y[i] * (LT[j][i])\n",
    "            LT[j] = LT[j] - LT[i] * (LT[j][i])\n",
    "    return y"
   ],
   "metadata": {
    "collapsed": false,
    "pycharm": {
     "name": "#%%\n"
    }
   }
  },
  {
   "cell_type": "markdown",
   "source": [
    "Section (a) - using Cholesky Factorization"
   ],
   "metadata": {
    "collapsed": false,
    "pycharm": {
     "name": "#%% md\n"
    }
   }
  },
  {
   "cell_type": "code",
   "source": [
    "ATB = A.transpose() @ b\n",
    "L = np.linalg.cholesky(ATA)\n",
    "y = forward_sub(L,ATB)\n",
    "x = backward_sub(L.transpose(),y)\n",
    "print(f'the vector that we found is x={x}')\n",
    "\n",
    "\n"
   ],
   "metadata": {
    "collapsed": false,
    "pycharm": {
     "name": "#%%\n"
    }
   },
   "execution_count": 26,
   "outputs": [
    {
     "name": "stdout",
     "output_type": "stream",
     "text": [
      "the vector that we found is x=[1.7 0.6 0.7]\n"
     ]
    }
   ]
  },
  {
   "cell_type": "markdown",
   "source": [
    "Section (b) using QR , SVD"
   ],
   "metadata": {
    "collapsed": false,
    "pycharm": {
     "name": "#%% md\n"
    }
   }
  },
  {
   "cell_type": "code",
   "execution_count": 29,
   "outputs": [
    {
     "name": "stdout",
     "output_type": "stream",
     "text": [
      "The vector that we found is x=[1.7 0.6 0.7]\n",
      "[0.00000000e+00 3.55271368e-15 0.00000000e+00]\n"
     ]
    }
   ],
   "source": [
    "Q,R = np.linalg.qr(A)\n",
    "y = forward_sub(R.transpose(),ATB)\n",
    "x_qr = backward_sub(R,y)\n",
    "print(f'The vector that we found using qr factorization is x={x_qr}')\n"
   ],
   "metadata": {
    "collapsed": false,
    "pycharm": {
     "name": "#%%\n"
    }
   }
  }
 ],
 "metadata": {
  "kernelspec": {
   "display_name": "Python 3",
   "language": "python",
   "name": "python3"
  },
  "language_info": {
   "codemirror_mode": {
    "name": "ipython",
    "version": 2
   },
   "file_extension": ".py",
   "mimetype": "text/x-python",
   "name": "python",
   "nbconvert_exporter": "python",
   "pygments_lexer": "ipython2",
   "version": "2.7.6"
  }
 },
 "nbformat": 4,
 "nbformat_minor": 0
}