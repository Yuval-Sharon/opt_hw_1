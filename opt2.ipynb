{
 "cells": [
  {
   "cell_type": "code",
   "execution_count": 137,
   "metadata": {
    "collapsed": true,
    "pycharm": {
     "name": "#%%\n"
    }
   },
   "outputs": [],
   "source": [
    "import  numpy as np\n",
    "import numpy.linalg as la\n",
    "from scipy.sparse import random\n",
    "import scipy.sparse as sparse"
   ]
  },
  {
   "cell_type": "code",
   "execution_count": 138,
   "outputs": [],
   "source": [
    "def jacobi(A,x,b,max_iter = 100,epsilon = 10e-4):\n",
    "    print(A.shape)\n",
    "    D = np.diag(np.diag(A))\n",
    "    norm_b = la.norm(b)\n",
    "    print(D.shape)\n",
    "    D_inv = la.inv(D)\n",
    "    r_vector = []\n",
    "    for i in range(max_iter):\n",
    "        x = x + D_inv @ (b - A @ x)\n",
    "        # verify\n",
    "        r = la.norm(A @ x - b)\n",
    "        r_vector.append(r)\n",
    "        if r / norm_b < epsilon:\n",
    "           break\n",
    "    return x,r_vector"
   ],
   "metadata": {
    "collapsed": false,
    "pycharm": {
     "name": "#%%\n"
    }
   }
  },
  {
   "cell_type": "code",
   "execution_count": 139,
   "outputs": [],
   "source": [
    "def Gauss_Seidal(A,x,b,max_iter = 100,epsilon = 10e-4):\n",
    "    # todo: understand it better :(\n",
    "    M = np.tril(A) # represent L + D\n",
    "    norm_b = la.norm(b)\n",
    "    M_inv = la.inv(M)\n",
    "    r_vector = []\n",
    "    for i in range(max_iter):\n",
    "        x = x + M_inv @ (b - A @ x)\n",
    "        # verify\n",
    "        r = la.norm(A @ x - b)\n",
    "        r_vector.append(r)\n",
    "        if r / norm_b < epsilon:\n",
    "           break\n",
    "    return x,r_vector\n"
   ],
   "metadata": {
    "collapsed": false,
    "pycharm": {
     "name": "#%%\n"
    }
   }
  },
  {
   "cell_type": "code",
   "execution_count": 140,
   "outputs": [],
   "source": [
    "def SD(A,x,b,max_iter = 100,epsilon = 10e-4):\n",
    "    norm_b = la.norm(b)\n",
    "    alpha = 0\n",
    "    r_vector = []\n",
    "    for i in range(max_iter):\n",
    "        rk = b - A @ x\n",
    "        alpha = (rk @ rk) / (rk @ (A@rk))\n",
    "        x = x + alpha * (b - A @ x)\n",
    "        r = la.norm(A @ x - b)\n",
    "        r_vector.append(r)\n",
    "        if r / norm_b < epsilon:\n",
    "           break\n",
    "    return x,r_vector"
   ],
   "metadata": {
    "collapsed": false,
    "pycharm": {
     "name": "#%%\n"
    }
   }
  },
  {
   "cell_type": "code",
   "execution_count": 141,
   "outputs": [],
   "source": [
    "def CG(A,x,b,max_iter = 100,epsilon = 10e-4):\n",
    "    norm_b = la.norm(b)\n",
    "    r = b - A @ x\n",
    "    p = r\n",
    "    alpha = 0\n",
    "    r_vector = []\n",
    "    for i in range(max_iter):\n",
    "        rk = b - A @ x\n",
    "        alpha = (rk @ rk) / (rk @ (A@rk))\n",
    "        x = x + alpha * p\n",
    "        r_prev = r\n",
    "        r = b  - A @ x\n",
    "        r_norm = la.norm(r)\n",
    "        r_vector.append(r_norm)\n",
    "        if r_norm / norm_b < epsilon:\n",
    "           break\n",
    "        beta =   np.inner(r,r) / np.inner(r_prev,r_prev)\n",
    "        p = r + beta * p\n",
    "\n",
    "    return x,r_vector"
   ],
   "metadata": {
    "collapsed": false,
    "pycharm": {
     "name": "#%%\n"
    }
   }
  },
  {
   "cell_type": "code",
   "execution_count": 142,
   "outputs": [
    {
     "name": "stdout",
     "output_type": "stream",
     "text": [
      "type <class 'numpy.ndarray'>\n",
      "(256, 256)\n",
      "\n",
      "(256, 256)\n",
      "(256, 256)\n"
     ]
    },
    {
     "name": "stderr",
     "output_type": "stream",
     "text": [
      "C:\\Users\\yuval\\AppData\\Local\\Temp\\ipykernel_19676\\2162919293.py:9: RuntimeWarning: overflow encountered in matmul\n",
      "  alpha = (rk @ rk) / (rk @ (A@rk))\n",
      "C:\\Users\\yuval\\AppData\\Local\\Temp\\ipykernel_19676\\2162919293.py:9: RuntimeWarning: invalid value encountered in matmul\n",
      "  alpha = (rk @ rk) / (rk @ (A@rk))\n"
     ]
    },
    {
     "data": {
      "text/plain": "[<matplotlib.lines.Line2D at 0x1f6c7ff4fa0>]"
     },
     "execution_count": 142,
     "metadata": {},
     "output_type": "execute_result"
    },
    {
     "data": {
      "text/plain": "<Figure size 432x288 with 1 Axes>",
      "image/png": "[encoded data removed]"
     },
     "metadata": {
      "needs_background": "light"
     },
     "output_type": "display_data"
    }
   ],
   "source": [
    "n = 256\n",
    "A = random(n, n, 5 / n, dtype=float)\n",
    "v = np.random.rand(n)\n",
    "v = sparse.spdiags(v, 0, v.shape[0], v.shape[0], 'csr')\n",
    "A = A.transpose() * v * A + 0.1*sparse.eye(n)\n",
    "b = np.random.rand(n)\n",
    "x_start = np.zeros(n)\n",
    "A = np.array(A.toarray())\n",
    "print(f'type {type(A)}')\n",
    "print(A.shape)\n",
    "print()\n",
    "\n",
    "x_jacobi,r_jacobi = jacobi(A,x_start,b)\n",
    "x_gs, r_gs = Gauss_Seidal(A,x_start,b)\n",
    "x_sd, r_sd = SD(A,x_start,b)\n",
    "x_cg, r_cg = CG(A,x_start,b)\n",
    "import matplotlib.pyplot as plt\n",
    "plt.semilogy(r_jacobi)\n",
    "plt.subplot()\n",
    "plt.semilogy(r_gs)\n",
    "plt.semilogy(r_sd)\n",
    "plt.semilogy(r_cg)\n",
    "\n"
   ],
   "metadata": {
    "collapsed": false,
    "pycharm": {
     "name": "#%%\n"
    }
   }
  },
  {
   "cell_type": "code",
   "execution_count": 142,
   "outputs": [],
   "source": [],
   "metadata": {
    "collapsed": false,
    "pycharm": {
     "name": "#%%\n"
    }
   }
  }
 ],
 "metadata": {
  "kernelspec": {
   "display_name": "Python 3",
   "language": "python",
   "name": "python3"
  },
  "language_info": {
   "codemirror_mode": {
    "name": "ipython",
    "version": 2
   },
   "file_extension": ".py",
   "mimetype": "text/x-python",
   "name": "python",
   "nbconvert_exporter": "python",
   "pygments_lexer": "ipython2",
   "version": "2.7.6"
  }
 },
 "nbformat": 4,
 "nbformat_minor": 0
}