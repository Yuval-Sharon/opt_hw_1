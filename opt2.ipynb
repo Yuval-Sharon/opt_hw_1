{
 "cells": [
  {
   "cell_type": "code",
   "execution_count": 3,
   "metadata": {
    "pycharm": {
     "name": "#%%\n"
    },
    "tags": []
   },
   "outputs": [],
   "source": [
    "import  numpy as np\n",
    "import numpy.linalg as la\n",
    "from scipy.sparse import random\n",
    "import scipy.sparse as sparse"
   ]
  },
  {
   "cell_type": "code",
   "execution_count": 4,
   "metadata": {
    "collapsed": false,
    "jupyter": {
     "outputs_hidden": false
    },
    "pycharm": {
     "name": "#%%\n"
    }
   },
   "outputs": [],
   "source": [
    "def jacobi(A,x,b,max_iter = 100,epsilon = 10e-4):\n",
    "    print(A.shape)\n",
    "    D = np.diag(np.diag(A))\n",
    "    norm_b = la.norm(b)\n",
    "    print(D.shape)\n",
    "    D_inv = la.inv(D)\n",
    "    r_vector = []\n",
    "    for i in range(max_iter):\n",
    "        x = x + (1/100) * D_inv @ (b - A @ x)\n",
    "        # verify\n",
    "        r = la.norm(A @ x - b)\n",
    "        r_vector.append(r)\n",
    "        if r / norm_b < epsilon:\n",
    "            break\n",
    "    return x,r_vector"
   ]
  },
  {
   "cell_type": "code",
   "execution_count": 5,
   "metadata": {
    "collapsed": false,
    "jupyter": {
     "outputs_hidden": false
    },
    "pycharm": {
     "name": "#%%\n"
    }
   },
   "outputs": [],
   "source": [
    "def Gauss_Seidal(A,x,b,max_iter = 100,epsilon = 10e-4):\n",
    "    # todo: understand it better :(\n",
    "    M = np.tril(A) # represent L + D\n",
    "    norm_b = la.norm(b)\n",
    "    M_inv = la.inv(M)\n",
    "    r_vector = []\n",
    "    for i in range(max_iter):\n",
    "        x = x + M_inv @ (b - A @ x)\n",
    "        # verify\n",
    "        r = la.norm(A @ x - b)\n",
    "        r_vector.append(r)\n",
    "        if r / norm_b < epsilon:\n",
    "            break\n",
    "    return x,r_vector\n"
   ]
  },
  {
   "cell_type": "code",
   "execution_count": 6,
   "metadata": {
    "collapsed": false,
    "jupyter": {
     "outputs_hidden": false
    },
    "pycharm": {
     "name": "#%%\n"
    }
   },
   "outputs": [],
   "source": [
    "def SD(A,x,b,max_iter = 100,epsilon = 10e-4):\n",
    "    norm_b = la.norm(b)\n",
    "    r_vector = []\n",
    "    for i in range(max_iter):\n",
    "        rk = b - A @ x\n",
    "        alpha = (rk @ rk) / (rk @ (A@rk))\n",
    "        x = x + alpha * rk\n",
    "        r = la.norm(A @ x - b)\n",
    "        r_vector.append(r)\n",
    "        if r / norm_b < epsilon:\n",
    "            break\n",
    "    return x,r_vector"
   ]
  },
  {
   "cell_type": "code",
   "execution_count": 7,
   "metadata": {},
   "outputs": [],
   "source": [
    "def CG(A,x,b,max_iter = 100,epsilon = 10e-4):\n",
    "    norm_b = la.norm(b)\n",
    "    r = b - A @ x\n",
    "    p = r\n",
    "    alpha = 0\n",
    "    r_vector = []\n",
    "    for i in range(max_iter):\n",
    "        rk = b - A @ x\n",
    "        alpha = (rk @ rk) / (rk @ (A@rk))\n",
    "        x = x + alpha * p\n",
    "        r_prev = r\n",
    "        r = b - A @ x\n",
    "        r_norm = la.norm(r)\n",
    "        r_vector.append(r_norm)\n",
    "        if r_norm / norm_b < epsilon:\n",
    "            break\n",
    "        beta =   np.inner(r,r) / np.inner(r_prev,r_prev)\n",
    "        p = r + beta * p\n",
    "\n",
    "    return x,r_vector"
   ]
  },
  {
   "cell_type": "code",
   "execution_count": 8,
   "metadata": {
    "collapsed": false,
    "jupyter": {
     "outputs_hidden": false
    },
    "pycharm": {
     "name": "#%%\n"
    }
   },
   "outputs": [],
   "source": [
    "def CG2(A,x,b,max_iter = 100,epsilon = 10e-4):\n",
    "    norm_b = la.norm(b)\n",
    "    rk = b - A @ x\n",
    "    p = np.array(rk)\n",
    "    alpha = 0\n",
    "    r_vector = []\n",
    "    for i in range(max_iter):\n",
    "        r_prev = np.array(rk)\n",
    "        alpha = (rk @ rk) / (rk @ (A@rk))\n",
    "        x = x + alpha * p\n",
    "        rk = b - A @ x\n",
    "        r_norm = la.norm(rk)\n",
    "        r_vector.append(r_norm)\n",
    "        if r_norm / norm_b < epsilon:\n",
    "            break\n",
    "        beta = np.inner(rk,rk) / np.inner(r_prev,r_prev)\n",
    "        p = rk + beta * p\n",
    "\n",
    "    return x,r_vector"
   ]
  },
  {
   "cell_type": "code",
   "execution_count": 9,
   "metadata": {
    "collapsed": false,
    "jupyter": {
     "outputs_hidden": false
    },
    "pycharm": {
     "name": "#%%\n"
    }
   },
   "outputs": [
    {
     "name": "stdout",
     "output_type": "stream",
     "text": [
      "type <class 'numpy.ndarray'>\n",
      "(256, 256)\n",
      "\n",
      "(256, 256)\n",
      "(256, 256)\n"
     ]
    },
    {
     "ename": "NameError",
     "evalue": "name 'GMRES1' is not defined",
     "output_type": "error",
     "traceback": [
      "\u001b[1;31m---------------------------------------------------------------------------\u001b[0m",
      "\u001b[1;31mNameError\u001b[0m                                 Traceback (most recent call last)",
      "Input \u001b[1;32mIn [9]\u001b[0m, in \u001b[0;36m<cell line: 17>\u001b[1;34m()\u001b[0m\n\u001b[0;32m     15\u001b[0m x_sd, r_sd \u001b[38;5;241m=\u001b[39m SD(A,x_start,b)\n\u001b[0;32m     16\u001b[0m x_cg, r_cg \u001b[38;5;241m=\u001b[39m CG2(A,x_start,b)\n\u001b[1;32m---> 17\u001b[0m x_GMRES1, r_GMRES1 \u001b[38;5;241m=\u001b[39m \u001b[43mGMRES1\u001b[49m(A,x_start,b)\n\u001b[0;32m     18\u001b[0m \u001b[38;5;28;01mimport\u001b[39;00m \u001b[38;5;21;01mmatplotlib\u001b[39;00m\u001b[38;5;21;01m.\u001b[39;00m\u001b[38;5;21;01mpyplot\u001b[39;00m \u001b[38;5;28;01mas\u001b[39;00m \u001b[38;5;21;01mplt\u001b[39;00m\n\u001b[0;32m     19\u001b[0m plt\u001b[38;5;241m.\u001b[39msemilogy(r_jacobi)\n",
      "\u001b[1;31mNameError\u001b[0m: name 'GMRES1' is not defined"
     ]
    }
   ],
   "source": [
    "n = 256\n",
    "A = random(n, n, 5 / n, dtype=float)\n",
    "v = np.random.rand(n)\n",
    "v = sparse.spdiags(v, 0, v.shape[0], v.shape[0], 'csr')\n",
    "A = A.transpose() * v * A + 0.1*sparse.eye(n)\n",
    "b = np.random.rand(n)\n",
    "x_start = np.zeros(n)\n",
    "A = np.array(A.toarray())\n",
    "print(f'type {type(A)}')\n",
    "print(A.shape)\n",
    "print()\n",
    "\n",
    "x_jacobi,r_jacobi = jacobi(A,x_start,b)\n",
    "x_gs, r_gs = Gauss_Seidal(A,x_start,b)\n",
    "x_sd, r_sd = SD(A,x_start,b)\n",
    "x_cg, r_cg = CG2(A,x_start,b)\n",
    "x_GMRES1, r_GMRES1 = GMRES1(A,x_start,b)\n",
    "import matplotlib.pyplot as plt\n",
    "plt.semilogy(r_jacobi)\n",
    "plt.title(\"Jacobi method\")\n",
    "plt.show()\n",
    "plt.semilogy(r_gs)\n",
    "plt.title(\"Gauss-Seidel method\")\n",
    "plt.show()\n",
    "plt.semilogy(r_sd)\n",
    "plt.title(\"Steepest Descent method\")\n",
    "plt.show()\n",
    "plt.semilogy(r_cg)\n",
    "plt.title(\"Conjugate Gradient method\")\n",
    "plt.show()\n",
    "plt.semilogy(r_GMRES1)\n",
    "plt.title(\"GMRES method\")\n",
    "plt.show()\n",
    "\n"
   ]
  },
  {
   "cell_type": "raw",
   "metadata": {
    "jupyter": {
     "outputs_hidden": false
    },
    "pycharm": {
     "name": "#%%\n"
    }
   },
   "source": [
    "#Part 3"
   ]
  },
  {
   "cell_type": "code",
   "execution_count": 10,
   "metadata": {},
   "outputs": [],
   "source": [
    "def GMRES1(A,x,b,max_iter = 50,epsilon = 10e-10):\n",
    "    norm_b = la.norm(b)\n",
    "    alpha = 0\n",
    "    r_vector = []\n",
    "    for i in range(max_iter):\n",
    "        rk = b - A @ x\n",
    "        alpha = ((rk.transpose()@A) @ rk) / ((rk.transpose() @ A.transpose()) @ (A@rk))\n",
    "        x = x + alpha * rk\n",
    "        r = la.norm(A @ x - b)\n",
    "        r_vector.append(r)\n",
    "        if r / norm_b < epsilon:\n",
    "            break\n",
    "    return x,r_vector"
   ]
  },
  {
   "cell_type": "code",
   "execution_count": 11,
   "metadata": {},
   "outputs": [
    {
     "data": {
      "image/png": "[encoded data removed]",
      "text/plain": [
       "<Figure size 432x288 with 1 Axes>"
      ]
     },
     "metadata": {
      "needs_background": "light"
     },
     "output_type": "display_data"
    }
   ],
   "source": [
    "A = np.array([[5,4,4,-1,0], [3,12,4,-5,-5], [-4,2,6,0,3], [4,5,-7,10,2], [1,2,5,3,10]])\n",
    "b = np.array([1,1,1,1,1])\n",
    "x_start = np.array([0,0,0,0,0])\n",
    "\n",
    "\n",
    "x_GMRES1, r_GMRES1 = GMRES1(A,x_start,b)\n",
    "import matplotlib.pyplot as plt\n",
    "plt.semilogy(r_GMRES1)\n",
    "plt.title(\"GMRES method\")\n",
    "plt.show()\n",
    "\n",
    "\n"
   ]
  },
  {
   "cell_type": "code",
   "execution_count": 44,
   "metadata": {},
   "outputs": [],
   "source": [
    "def GMRES2(A,x,b,max_iter = 50,epsilon = 10e-10):\n",
    "    norm_b = la.norm(b)\n",
    "    r_vector = []\n",
    "    Rk = np.zeros((2, len(x)))\n",
    "    RkT = Rk.transpose()\n",
    "    for i in range(max_iter):\n",
    "        Rk[1] = Rk[0]\n",
    "        Rk[0] = b - A @ x\n",
    "        print(Rk @ A.transpose() @ A @ Rk.transpose())\n",
    "        alpha = (Rk[0] @ A @ Rk.transpose()) * la.inv(Rk @ A.transpose() @ A @ Rk.transpose())\n",
    "        # print(alpha)\n",
    "        x = x + alpha @ Rk\n",
    "        # print(x)\n",
    "        r_norm = la.norm(A @ x - b)\n",
    "        r_vector.append(r_norm)\n",
    "        if r_norm / norm_b < epsilon:\n",
    "            break\n",
    "    return x,r_vector"
   ]
  },
  {
   "cell_type": "code",
   "execution_count": 45,
   "metadata": {},
   "outputs": [
    {
     "name": "stdout",
     "output_type": "stream",
     "text": [
      "[[911.   0.]\n",
      " [  0.   0.]]\n"
     ]
    },
    {
     "ename": "LinAlgError",
     "evalue": "Singular matrix",
     "output_type": "error",
     "traceback": [
      "\u001b[1;31m---------------------------------------------------------------------------\u001b[0m",
      "\u001b[1;31mLinAlgError\u001b[0m                               Traceback (most recent call last)",
      "Input \u001b[1;32mIn [45]\u001b[0m, in \u001b[0;36m<cell line: 6>\u001b[1;34m()\u001b[0m\n\u001b[0;32m      2\u001b[0m b \u001b[38;5;241m=\u001b[39m np\u001b[38;5;241m.\u001b[39marray([\u001b[38;5;241m1\u001b[39m,\u001b[38;5;241m1\u001b[39m,\u001b[38;5;241m1\u001b[39m,\u001b[38;5;241m1\u001b[39m,\u001b[38;5;241m1\u001b[39m])\n\u001b[0;32m      3\u001b[0m x_start \u001b[38;5;241m=\u001b[39m np\u001b[38;5;241m.\u001b[39marray([\u001b[38;5;241m0\u001b[39m,\u001b[38;5;241m0\u001b[39m,\u001b[38;5;241m0\u001b[39m,\u001b[38;5;241m0\u001b[39m,\u001b[38;5;241m0\u001b[39m])\n\u001b[1;32m----> 6\u001b[0m x_GMRES2, r_GMRES2 \u001b[38;5;241m=\u001b[39m \u001b[43mGMRES2\u001b[49m\u001b[43m(\u001b[49m\u001b[43mA\u001b[49m\u001b[43m,\u001b[49m\u001b[43mx_start\u001b[49m\u001b[43m,\u001b[49m\u001b[43mb\u001b[49m\u001b[43m)\u001b[49m\n\u001b[0;32m      7\u001b[0m \u001b[38;5;28;01mimport\u001b[39;00m \u001b[38;5;21;01mmatplotlib\u001b[39;00m\u001b[38;5;21;01m.\u001b[39;00m\u001b[38;5;21;01mpyplot\u001b[39;00m \u001b[38;5;28;01mas\u001b[39;00m \u001b[38;5;21;01mplt\u001b[39;00m\n\u001b[0;32m      8\u001b[0m plt\u001b[38;5;241m.\u001b[39msemilogy(r_GMRES1)\n",
      "Input \u001b[1;32mIn [44]\u001b[0m, in \u001b[0;36mGMRES2\u001b[1;34m(A, x, b, max_iter, epsilon)\u001b[0m\n\u001b[0;32m      8\u001b[0m Rk[\u001b[38;5;241m0\u001b[39m] \u001b[38;5;241m=\u001b[39m b \u001b[38;5;241m-\u001b[39m A \u001b[38;5;241m@\u001b[39m x\n\u001b[0;32m      9\u001b[0m \u001b[38;5;28mprint\u001b[39m(Rk \u001b[38;5;241m@\u001b[39m A\u001b[38;5;241m.\u001b[39mtranspose() \u001b[38;5;241m@\u001b[39m A \u001b[38;5;241m@\u001b[39m Rk\u001b[38;5;241m.\u001b[39mtranspose())\n\u001b[1;32m---> 10\u001b[0m alpha \u001b[38;5;241m=\u001b[39m (Rk[\u001b[38;5;241m0\u001b[39m] \u001b[38;5;241m@\u001b[39m A \u001b[38;5;241m@\u001b[39m Rk\u001b[38;5;241m.\u001b[39mtranspose()) \u001b[38;5;241m*\u001b[39m \u001b[43mla\u001b[49m\u001b[38;5;241;43m.\u001b[39;49m\u001b[43minv\u001b[49m\u001b[43m(\u001b[49m\u001b[43mRk\u001b[49m\u001b[43m \u001b[49m\u001b[38;5;241;43m@\u001b[39;49m\u001b[43m \u001b[49m\u001b[43mA\u001b[49m\u001b[38;5;241;43m.\u001b[39;49m\u001b[43mtranspose\u001b[49m\u001b[43m(\u001b[49m\u001b[43m)\u001b[49m\u001b[43m \u001b[49m\u001b[38;5;241;43m@\u001b[39;49m\u001b[43m \u001b[49m\u001b[43mA\u001b[49m\u001b[43m \u001b[49m\u001b[38;5;241;43m@\u001b[39;49m\u001b[43m \u001b[49m\u001b[43mRk\u001b[49m\u001b[38;5;241;43m.\u001b[39;49m\u001b[43mtranspose\u001b[49m\u001b[43m(\u001b[49m\u001b[43m)\u001b[49m\u001b[43m)\u001b[49m\n\u001b[0;32m     11\u001b[0m \u001b[38;5;66;03m# print(alpha)\u001b[39;00m\n\u001b[0;32m     12\u001b[0m x \u001b[38;5;241m=\u001b[39m x \u001b[38;5;241m+\u001b[39m alpha \u001b[38;5;241m@\u001b[39m Rk\n",
      "File \u001b[1;32m<__array_function__ internals>:5\u001b[0m, in \u001b[0;36minv\u001b[1;34m(*args, **kwargs)\u001b[0m\n",
      "File \u001b[1;32m~\\anaconda3\\lib\\site-packages\\numpy\\linalg\\linalg.py:545\u001b[0m, in \u001b[0;36minv\u001b[1;34m(a)\u001b[0m\n\u001b[0;32m    543\u001b[0m signature \u001b[38;5;241m=\u001b[39m \u001b[38;5;124m'\u001b[39m\u001b[38;5;124mD->D\u001b[39m\u001b[38;5;124m'\u001b[39m \u001b[38;5;28;01mif\u001b[39;00m isComplexType(t) \u001b[38;5;28;01melse\u001b[39;00m \u001b[38;5;124m'\u001b[39m\u001b[38;5;124md->d\u001b[39m\u001b[38;5;124m'\u001b[39m\n\u001b[0;32m    544\u001b[0m extobj \u001b[38;5;241m=\u001b[39m get_linalg_error_extobj(_raise_linalgerror_singular)\n\u001b[1;32m--> 545\u001b[0m ainv \u001b[38;5;241m=\u001b[39m \u001b[43m_umath_linalg\u001b[49m\u001b[38;5;241;43m.\u001b[39;49m\u001b[43minv\u001b[49m\u001b[43m(\u001b[49m\u001b[43ma\u001b[49m\u001b[43m,\u001b[49m\u001b[43m \u001b[49m\u001b[43msignature\u001b[49m\u001b[38;5;241;43m=\u001b[39;49m\u001b[43msignature\u001b[49m\u001b[43m,\u001b[49m\u001b[43m \u001b[49m\u001b[43mextobj\u001b[49m\u001b[38;5;241;43m=\u001b[39;49m\u001b[43mextobj\u001b[49m\u001b[43m)\u001b[49m\n\u001b[0;32m    546\u001b[0m \u001b[38;5;28;01mreturn\u001b[39;00m wrap(ainv\u001b[38;5;241m.\u001b[39mastype(result_t, copy\u001b[38;5;241m=\u001b[39m\u001b[38;5;28;01mFalse\u001b[39;00m))\n",
      "File \u001b[1;32m~\\anaconda3\\lib\\site-packages\\numpy\\linalg\\linalg.py:88\u001b[0m, in \u001b[0;36m_raise_linalgerror_singular\u001b[1;34m(err, flag)\u001b[0m\n\u001b[0;32m     87\u001b[0m \u001b[38;5;28;01mdef\u001b[39;00m \u001b[38;5;21m_raise_linalgerror_singular\u001b[39m(err, flag):\n\u001b[1;32m---> 88\u001b[0m     \u001b[38;5;28;01mraise\u001b[39;00m LinAlgError(\u001b[38;5;124m\"\u001b[39m\u001b[38;5;124mSingular matrix\u001b[39m\u001b[38;5;124m\"\u001b[39m)\n",
      "\u001b[1;31mLinAlgError\u001b[0m: Singular matrix"
     ]
    }
   ],
   "source": [
    "A = np.array([[5,4,4,-1,0], [3,12,4,-5,-5], [-4,2,6,0,3], [4,5,-7,10,2], [1,2,5,3,10]])\n",
    "b = np.array([1,1,1,1,1])\n",
    "x_start = np.array([0,0,0,0,0])\n",
    "\n",
    "\n",
    "x_GMRES2, r_GMRES2 = GMRES2(A,x_start,b)\n",
    "import matplotlib.pyplot as plt\n",
    "plt.semilogy(r_GMRES1)\n",
    "plt.title(\"GMRES 2 method\")\n",
    "plt.show()"
   ]
  },
  {
   "cell_type": "code",
   "execution_count": 14,
   "metadata": {},
   "outputs": [],
   "source": [
    "    Rk = np.zeros((2, 10))\n"
   ]
  },
  {
   "cell_type": "code",
   "execution_count": 15,
   "metadata": {},
   "outputs": [
    {
     "data": {
      "text/plain": [
       "array([[0., 0., 0., 0., 0., 0., 0., 0., 0., 0.],\n",
       "       [0., 0., 0., 0., 0., 0., 0., 0., 0., 0.]])"
      ]
     },
     "execution_count": 15,
     "metadata": {},
     "output_type": "execute_result"
    }
   ],
   "source": [
    "Rk"
   ]
  },
  {
   "cell_type": "code",
   "execution_count": null,
   "metadata": {},
   "outputs": [],
   "source": []
  }
 ],
 "metadata": {
  "kernelspec": {
   "display_name": "Python 3 (ipykernel)",
   "language": "python",
   "name": "python3"
  },
  "language_info": {
   "codemirror_mode": {
    "name": "ipython",
    "version": 3
   },
   "file_extension": ".py",
   "mimetype": "text/x-python",
   "name": "python",
   "nbconvert_exporter": "python",
   "pygments_lexer": "ipython3",
   "version": "3.9.12"
  }
 },
 "nbformat": 4,
 "nbformat_minor": 4
}
